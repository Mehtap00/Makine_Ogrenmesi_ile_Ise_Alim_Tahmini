{
 "cells": [
  {
   "cell_type": "code",
   "execution_count": 1,
   "id": "572456e2",
   "metadata": {},
   "outputs": [],
   "source": [
    "import pandas as pd\n",
    "import numpy as np"
   ]
  },
  {
   "cell_type": "markdown",
   "id": "e9e48b00",
   "metadata": {},
   "source": [
    "## Veri setini okuma ve ön işleme"
   ]
  },
  {
   "cell_type": "code",
   "execution_count": 2,
   "id": "587aa877",
   "metadata": {},
   "outputs": [],
   "source": [
    "df1=pd.read_csv(\"resumes_dataset/resumes_development.csv\",dtype=int)\n",
    "df2=pd.read_csv(\"resumes_dataset/resumes_pilot.csv\",dtype=int)\n",
    "data=pd.concat([df1,df2],ignore_index=True)"
   ]
  },
  {
   "cell_type": "markdown",
   "id": "436528cd",
   "metadata": {},
   "source": [
    "Yapay zekanın önyargılı karar vermesini engellemek amacıyla aşağıdaki sütunları çıkardım.  "
   ]
  },
  {
   "cell_type": "code",
   "execution_count": 3,
   "id": "8726bd6c",
   "metadata": {},
   "outputs": [],
   "source": [
    "data.drop([\"Unnamed: 0\",\"Female\",\"URM\",\"Disability\"],axis=1,inplace=True)"
   ]
  },
  {
   "cell_type": "markdown",
   "id": "289ac4a3",
   "metadata": {},
   "source": [
    "bağımlı(y) ve bağımsız(x) değişkenlerini oluşturma"
   ]
  },
  {
   "cell_type": "code",
   "execution_count": 4,
   "id": "cc9f2a0b",
   "metadata": {
    "scrolled": false
   },
   "outputs": [],
   "source": [
    "x=data.iloc[:,1:220].values\n",
    "y=data[\"Interview\"].values.reshape(-1,1)"
   ]
  },
  {
   "cell_type": "markdown",
   "id": "8721680e",
   "metadata": {},
   "source": [
    "x ve y verilerini, test ve eğitim seti olarak ikiye bölme"
   ]
  },
  {
   "cell_type": "code",
   "execution_count": 5,
   "id": "f4a4dde6",
   "metadata": {},
   "outputs": [],
   "source": [
    "from sklearn.model_selection import train_test_split"
   ]
  },
  {
   "cell_type": "code",
   "execution_count": 6,
   "id": "03dfb9c0",
   "metadata": {},
   "outputs": [],
   "source": [
    "x_train,x_test,y_train,y_test=train_test_split(x,y,test_size=0.3,random_state=46)"
   ]
  },
  {
   "cell_type": "markdown",
   "id": "edcaa101",
   "metadata": {},
   "source": [
    "## LogisticRegression ile 1. modeli oluşturma ve eğitim verisiyle eğitme"
   ]
  },
  {
   "cell_type": "code",
   "execution_count": 7,
   "id": "2bd4741c",
   "metadata": {},
   "outputs": [],
   "source": [
    "from sklearn.linear_model import LogisticRegression\n",
    "lr=LogisticRegression()"
   ]
  },
  {
   "cell_type": "code",
   "execution_count": null,
   "id": "9a895e58",
   "metadata": {},
   "outputs": [],
   "source": [
    "lr.fit(x_train,y_train)"
   ]
  },
  {
   "cell_type": "markdown",
   "id": "d8c2ac4c",
   "metadata": {},
   "source": [
    "## 1. modeli test etme"
   ]
  },
  {
   "cell_type": "code",
   "execution_count": 9,
   "id": "f33614b7",
   "metadata": {},
   "outputs": [],
   "source": [
    "y_head=lr.predict(x_test)"
   ]
  },
  {
   "cell_type": "code",
   "execution_count": 10,
   "id": "6fd43ee6",
   "metadata": {
    "scrolled": true
   },
   "outputs": [
    {
     "data": {
      "text/plain": [
       "array([[517,   8],\n",
       "       [ 10, 247]], dtype=int64)"
      ]
     },
     "execution_count": 10,
     "metadata": {},
     "output_type": "execute_result"
    }
   ],
   "source": [
    "from sklearn.metrics import confusion_matrix\n",
    "cm=confusion_matrix(y_test,y_head)\n",
    "cm"
   ]
  },
  {
   "cell_type": "code",
   "execution_count": 11,
   "id": "fdf2b789",
   "metadata": {},
   "outputs": [
    {
     "name": "stdout",
     "output_type": "stream",
     "text": [
      "0.9769820971867008\n",
      "0.9923203510696654\n"
     ]
    }
   ],
   "source": [
    "print(lr.score(x_test,y_test))\n",
    "print(lr.score(x_train,y_train))"
   ]
  },
  {
   "cell_type": "markdown",
   "id": "55901e76",
   "metadata": {},
   "source": [
    "## Overfitting'i (aşırı öğrenme) önlemek için C=0.1 alarak modeli tekrar eğitme"
   ]
  },
  {
   "cell_type": "code",
   "execution_count": null,
   "id": "59fccc45",
   "metadata": {},
   "outputs": [],
   "source": [
    "lr1=LogisticRegression(C=0.1)\n",
    "lr1.fit(x_train,y_train)"
   ]
  },
  {
   "cell_type": "markdown",
   "id": "cda59577",
   "metadata": {},
   "source": [
    "## Yeni oluşturduğum modeli test etme"
   ]
  },
  {
   "cell_type": "code",
   "execution_count": 13,
   "id": "3bab272a",
   "metadata": {},
   "outputs": [
    {
     "name": "stdout",
     "output_type": "stream",
     "text": [
      "0.9616368286445013\n",
      "0.9709270433351618\n"
     ]
    }
   ],
   "source": [
    "print(lr1.score(x_test,y_test))\n",
    "print(lr1.score(x_train,y_train))"
   ]
  },
  {
   "cell_type": "code",
   "execution_count": 14,
   "id": "bcc9c05a",
   "metadata": {},
   "outputs": [],
   "source": [
    "y_head1=lr1.predict(x_test)"
   ]
  },
  {
   "cell_type": "code",
   "execution_count": 15,
   "id": "4d962282",
   "metadata": {},
   "outputs": [
    {
     "data": {
      "text/plain": [
       "array([[515,  10],\n",
       "       [ 20, 237]], dtype=int64)"
      ]
     },
     "execution_count": 15,
     "metadata": {},
     "output_type": "execute_result"
    }
   ],
   "source": [
    "from sklearn.metrics import confusion_matrix\n",
    "cm=confusion_matrix(y_test,y_head1)\n",
    "cm"
   ]
  },
  {
   "cell_type": "markdown",
   "id": "b50d85a7",
   "metadata": {},
   "source": [
    "Cross validation skorlarını elde etme"
   ]
  },
  {
   "cell_type": "code",
   "execution_count": 16,
   "id": "0864586d",
   "metadata": {},
   "outputs": [],
   "source": [
    "lr2=LogisticRegression(C=0.1)"
   ]
  },
  {
   "cell_type": "code",
   "execution_count": 17,
   "id": "44f1648b",
   "metadata": {},
   "outputs": [],
   "source": [
    "column=[]\n",
    "for i in range(1,11):\n",
    "    column.append(\"Model\"+str(i))\n",
    "column.append(\"Avarage\")\n",
    "models=pd.DataFrame(columns=column)"
   ]
  },
  {
   "cell_type": "code",
   "execution_count": 18,
   "id": "6baa20cf",
   "metadata": {
    "scrolled": true
   },
   "outputs": [],
   "source": [
    "from sklearn.model_selection import cross_val_score"
   ]
  },
  {
   "cell_type": "code",
   "execution_count": null,
   "id": "9eb255c9",
   "metadata": {},
   "outputs": [],
   "source": [
    "for i in range(4,11):\n",
    "    c_score=cross_val_score(lr2,x,y,cv=i)\n",
    "    avarage=c_score.mean()\n",
    "    c_score=c_score.tolist()\n",
    "    for j in range(i,10):\n",
    "        c_score.append(None)\n",
    "    c_score.append(avarage)    \n",
    "    models.loc[i]=c_score"
   ]
  },
  {
   "cell_type": "code",
   "execution_count": 20,
   "id": "7808459b",
   "metadata": {},
   "outputs": [
    {
     "data": {
      "text/html": [
       "<div>\n",
       "<style scoped>\n",
       "    .dataframe tbody tr th:only-of-type {\n",
       "        vertical-align: middle;\n",
       "    }\n",
       "\n",
       "    .dataframe tbody tr th {\n",
       "        vertical-align: top;\n",
       "    }\n",
       "\n",
       "    .dataframe thead th {\n",
       "        text-align: right;\n",
       "    }\n",
       "</style>\n",
       "<table border=\"1\" class=\"dataframe\">\n",
       "  <thead>\n",
       "    <tr style=\"text-align: right;\">\n",
       "      <th></th>\n",
       "      <th>Model1</th>\n",
       "      <th>Model2</th>\n",
       "      <th>Model3</th>\n",
       "      <th>Model4</th>\n",
       "      <th>Model5</th>\n",
       "      <th>Model6</th>\n",
       "      <th>Model7</th>\n",
       "      <th>Model8</th>\n",
       "      <th>Model9</th>\n",
       "      <th>Model10</th>\n",
       "      <th>Avarage</th>\n",
       "    </tr>\n",
       "  </thead>\n",
       "  <tbody>\n",
       "    <tr>\n",
       "      <th>4</th>\n",
       "      <td>0.967791</td>\n",
       "      <td>0.958525</td>\n",
       "      <td>0.967742</td>\n",
       "      <td>0.960061</td>\n",
       "      <td>NaN</td>\n",
       "      <td>NaN</td>\n",
       "      <td>NaN</td>\n",
       "      <td>NaN</td>\n",
       "      <td>NaN</td>\n",
       "      <td>NaN</td>\n",
       "      <td>0.963530</td>\n",
       "    </tr>\n",
       "    <tr>\n",
       "      <th>5</th>\n",
       "      <td>0.967370</td>\n",
       "      <td>0.965451</td>\n",
       "      <td>0.963532</td>\n",
       "      <td>0.965451</td>\n",
       "      <td>0.955854</td>\n",
       "      <td>NaN</td>\n",
       "      <td>NaN</td>\n",
       "      <td>NaN</td>\n",
       "      <td>NaN</td>\n",
       "      <td>NaN</td>\n",
       "      <td>0.963532</td>\n",
       "    </tr>\n",
       "    <tr>\n",
       "      <th>6</th>\n",
       "      <td>0.967816</td>\n",
       "      <td>0.970046</td>\n",
       "      <td>0.960829</td>\n",
       "      <td>0.970046</td>\n",
       "      <td>0.958525</td>\n",
       "      <td>0.960829</td>\n",
       "      <td>NaN</td>\n",
       "      <td>NaN</td>\n",
       "      <td>NaN</td>\n",
       "      <td>NaN</td>\n",
       "      <td>0.964682</td>\n",
       "    </tr>\n",
       "    <tr>\n",
       "      <th>7</th>\n",
       "      <td>0.962466</td>\n",
       "      <td>0.973118</td>\n",
       "      <td>0.970430</td>\n",
       "      <td>0.956989</td>\n",
       "      <td>0.965054</td>\n",
       "      <td>0.956989</td>\n",
       "      <td>0.962366</td>\n",
       "      <td>NaN</td>\n",
       "      <td>NaN</td>\n",
       "      <td>NaN</td>\n",
       "      <td>0.963916</td>\n",
       "    </tr>\n",
       "    <tr>\n",
       "      <th>8</th>\n",
       "      <td>0.963190</td>\n",
       "      <td>0.972393</td>\n",
       "      <td>0.969325</td>\n",
       "      <td>0.953988</td>\n",
       "      <td>0.969325</td>\n",
       "      <td>0.972308</td>\n",
       "      <td>0.947692</td>\n",
       "      <td>0.963077</td>\n",
       "      <td>NaN</td>\n",
       "      <td>NaN</td>\n",
       "      <td>0.963912</td>\n",
       "    </tr>\n",
       "    <tr>\n",
       "      <th>9</th>\n",
       "      <td>0.962069</td>\n",
       "      <td>0.965517</td>\n",
       "      <td>0.975862</td>\n",
       "      <td>0.962069</td>\n",
       "      <td>0.965398</td>\n",
       "      <td>0.968858</td>\n",
       "      <td>0.968858</td>\n",
       "      <td>0.944637</td>\n",
       "      <td>0.965398</td>\n",
       "      <td>NaN</td>\n",
       "      <td>0.964296</td>\n",
       "    </tr>\n",
       "    <tr>\n",
       "      <th>10</th>\n",
       "      <td>0.961686</td>\n",
       "      <td>0.969349</td>\n",
       "      <td>0.969349</td>\n",
       "      <td>0.969349</td>\n",
       "      <td>0.954023</td>\n",
       "      <td>0.976923</td>\n",
       "      <td>0.969231</td>\n",
       "      <td>0.965385</td>\n",
       "      <td>0.942308</td>\n",
       "      <td>0.969231</td>\n",
       "      <td>0.964683</td>\n",
       "    </tr>\n",
       "  </tbody>\n",
       "</table>\n",
       "</div>"
      ],
      "text/plain": [
       "      Model1    Model2    Model3    Model4    Model5    Model6    Model7  \\\n",
       "4   0.967791  0.958525  0.967742  0.960061       NaN       NaN       NaN   \n",
       "5   0.967370  0.965451  0.963532  0.965451  0.955854       NaN       NaN   \n",
       "6   0.967816  0.970046  0.960829  0.970046  0.958525  0.960829       NaN   \n",
       "7   0.962466  0.973118  0.970430  0.956989  0.965054  0.956989  0.962366   \n",
       "8   0.963190  0.972393  0.969325  0.953988  0.969325  0.972308  0.947692   \n",
       "9   0.962069  0.965517  0.975862  0.962069  0.965398  0.968858  0.968858   \n",
       "10  0.961686  0.969349  0.969349  0.969349  0.954023  0.976923  0.969231   \n",
       "\n",
       "      Model8    Model9   Model10   Avarage  \n",
       "4        NaN       NaN       NaN  0.963530  \n",
       "5        NaN       NaN       NaN  0.963532  \n",
       "6        NaN       NaN       NaN  0.964682  \n",
       "7        NaN       NaN       NaN  0.963916  \n",
       "8   0.963077       NaN       NaN  0.963912  \n",
       "9   0.944637  0.965398       NaN  0.964296  \n",
       "10  0.965385  0.942308  0.969231  0.964683  "
      ]
     },
     "execution_count": 20,
     "metadata": {},
     "output_type": "execute_result"
    }
   ],
   "source": [
    "models"
   ]
  },
  {
   "cell_type": "markdown",
   "id": "53012920",
   "metadata": {},
   "source": [
    "KFold ile Cross validation skorlarını elde etme"
   ]
  },
  {
   "cell_type": "code",
   "execution_count": 21,
   "id": "86339661",
   "metadata": {},
   "outputs": [],
   "source": [
    "column=[]\n",
    "for i in range(1,11):\n",
    "    column.append(\"Model\"+str(i))\n",
    "column.append(\"Avarage\")\n",
    "models=pd.DataFrame(columns=column)"
   ]
  },
  {
   "cell_type": "code",
   "execution_count": 22,
   "id": "193949bd",
   "metadata": {},
   "outputs": [],
   "source": [
    "from sklearn.model_selection import KFold"
   ]
  },
  {
   "cell_type": "code",
   "execution_count": null,
   "id": "5f36fde0",
   "metadata": {
    "scrolled": true
   },
   "outputs": [],
   "source": [
    "kfold=KFold(n_splits=5,shuffle=True,random_state=0)\n",
    "for i in range(4,11):\n",
    "    kfold=KFold(n_splits=i,shuffle=True,random_state=0)\n",
    "    kfold_c_score=cross_val_score(lr2,x,y,cv=kfold)\n",
    "    avarage=kfold_c_score.mean()\n",
    "    kfold_c_score=kfold_c_score.tolist()\n",
    "    for j in range(i,10):\n",
    "        kfold_c_score.append(None)\n",
    "    kfold_c_score.append(avarage)    \n",
    "    models.loc[i]=kfold_c_score"
   ]
  },
  {
   "cell_type": "code",
   "execution_count": 24,
   "id": "557be29e",
   "metadata": {},
   "outputs": [
    {
     "data": {
      "text/html": [
       "<div>\n",
       "<style scoped>\n",
       "    .dataframe tbody tr th:only-of-type {\n",
       "        vertical-align: middle;\n",
       "    }\n",
       "\n",
       "    .dataframe tbody tr th {\n",
       "        vertical-align: top;\n",
       "    }\n",
       "\n",
       "    .dataframe thead th {\n",
       "        text-align: right;\n",
       "    }\n",
       "</style>\n",
       "<table border=\"1\" class=\"dataframe\">\n",
       "  <thead>\n",
       "    <tr style=\"text-align: right;\">\n",
       "      <th></th>\n",
       "      <th>Model1</th>\n",
       "      <th>Model2</th>\n",
       "      <th>Model3</th>\n",
       "      <th>Model4</th>\n",
       "      <th>Model5</th>\n",
       "      <th>Model6</th>\n",
       "      <th>Model7</th>\n",
       "      <th>Model8</th>\n",
       "      <th>Model9</th>\n",
       "      <th>Model10</th>\n",
       "      <th>Avarage</th>\n",
       "    </tr>\n",
       "  </thead>\n",
       "  <tbody>\n",
       "    <tr>\n",
       "      <th>4</th>\n",
       "      <td>0.966258</td>\n",
       "      <td>0.958525</td>\n",
       "      <td>0.967742</td>\n",
       "      <td>0.973886</td>\n",
       "      <td>NaN</td>\n",
       "      <td>NaN</td>\n",
       "      <td>NaN</td>\n",
       "      <td>NaN</td>\n",
       "      <td>NaN</td>\n",
       "      <td>NaN</td>\n",
       "      <td>0.966603</td>\n",
       "    </tr>\n",
       "    <tr>\n",
       "      <th>5</th>\n",
       "      <td>0.965451</td>\n",
       "      <td>0.957774</td>\n",
       "      <td>0.963532</td>\n",
       "      <td>0.963532</td>\n",
       "      <td>0.973129</td>\n",
       "      <td>NaN</td>\n",
       "      <td>NaN</td>\n",
       "      <td>NaN</td>\n",
       "      <td>NaN</td>\n",
       "      <td>NaN</td>\n",
       "      <td>0.964683</td>\n",
       "    </tr>\n",
       "    <tr>\n",
       "      <th>6</th>\n",
       "      <td>0.963218</td>\n",
       "      <td>0.972350</td>\n",
       "      <td>0.953917</td>\n",
       "      <td>0.970046</td>\n",
       "      <td>0.965438</td>\n",
       "      <td>0.970046</td>\n",
       "      <td>NaN</td>\n",
       "      <td>NaN</td>\n",
       "      <td>NaN</td>\n",
       "      <td>NaN</td>\n",
       "      <td>0.965836</td>\n",
       "    </tr>\n",
       "    <tr>\n",
       "      <th>7</th>\n",
       "      <td>0.959786</td>\n",
       "      <td>0.975806</td>\n",
       "      <td>0.948925</td>\n",
       "      <td>0.956989</td>\n",
       "      <td>0.965054</td>\n",
       "      <td>0.978495</td>\n",
       "      <td>0.970430</td>\n",
       "      <td>NaN</td>\n",
       "      <td>NaN</td>\n",
       "      <td>NaN</td>\n",
       "      <td>0.965069</td>\n",
       "    </tr>\n",
       "    <tr>\n",
       "      <th>8</th>\n",
       "      <td>0.957055</td>\n",
       "      <td>0.978528</td>\n",
       "      <td>0.950920</td>\n",
       "      <td>0.963190</td>\n",
       "      <td>0.969325</td>\n",
       "      <td>0.963077</td>\n",
       "      <td>0.975385</td>\n",
       "      <td>0.966154</td>\n",
       "      <td>NaN</td>\n",
       "      <td>NaN</td>\n",
       "      <td>0.965454</td>\n",
       "    </tr>\n",
       "    <tr>\n",
       "      <th>9</th>\n",
       "      <td>0.955172</td>\n",
       "      <td>0.979310</td>\n",
       "      <td>0.968966</td>\n",
       "      <td>0.941379</td>\n",
       "      <td>0.972318</td>\n",
       "      <td>0.968858</td>\n",
       "      <td>0.961938</td>\n",
       "      <td>0.972318</td>\n",
       "      <td>0.968858</td>\n",
       "      <td>NaN</td>\n",
       "      <td>0.965458</td>\n",
       "    </tr>\n",
       "    <tr>\n",
       "      <th>10</th>\n",
       "      <td>0.950192</td>\n",
       "      <td>0.980843</td>\n",
       "      <td>0.973180</td>\n",
       "      <td>0.946360</td>\n",
       "      <td>0.954023</td>\n",
       "      <td>0.969231</td>\n",
       "      <td>0.961538</td>\n",
       "      <td>0.969231</td>\n",
       "      <td>0.976923</td>\n",
       "      <td>0.969231</td>\n",
       "      <td>0.965075</td>\n",
       "    </tr>\n",
       "  </tbody>\n",
       "</table>\n",
       "</div>"
      ],
      "text/plain": [
       "      Model1    Model2    Model3    Model4    Model5    Model6    Model7  \\\n",
       "4   0.966258  0.958525  0.967742  0.973886       NaN       NaN       NaN   \n",
       "5   0.965451  0.957774  0.963532  0.963532  0.973129       NaN       NaN   \n",
       "6   0.963218  0.972350  0.953917  0.970046  0.965438  0.970046       NaN   \n",
       "7   0.959786  0.975806  0.948925  0.956989  0.965054  0.978495  0.970430   \n",
       "8   0.957055  0.978528  0.950920  0.963190  0.969325  0.963077  0.975385   \n",
       "9   0.955172  0.979310  0.968966  0.941379  0.972318  0.968858  0.961938   \n",
       "10  0.950192  0.980843  0.973180  0.946360  0.954023  0.969231  0.961538   \n",
       "\n",
       "      Model8    Model9   Model10   Avarage  \n",
       "4        NaN       NaN       NaN  0.966603  \n",
       "5        NaN       NaN       NaN  0.964683  \n",
       "6        NaN       NaN       NaN  0.965836  \n",
       "7        NaN       NaN       NaN  0.965069  \n",
       "8   0.966154       NaN       NaN  0.965454  \n",
       "9   0.972318  0.968858       NaN  0.965458  \n",
       "10  0.969231  0.976923  0.969231  0.965075  "
      ]
     },
     "execution_count": 24,
     "metadata": {},
     "output_type": "execute_result"
    }
   ],
   "source": [
    "models"
   ]
  },
  {
   "cell_type": "markdown",
   "id": "5f440971",
   "metadata": {},
   "source": [
    "## Modeli kaydetme"
   ]
  },
  {
   "cell_type": "code",
   "execution_count": 25,
   "id": "7c7610cc",
   "metadata": {},
   "outputs": [],
   "source": [
    "import pickle"
   ]
  },
  {
   "cell_type": "code",
   "execution_count": 26,
   "id": "0c8c8f2d",
   "metadata": {},
   "outputs": [],
   "source": [
    "pickle.dump(lr1,open(\"lr_model.pickle\",\"wb\"))"
   ]
  }
 ],
 "metadata": {
  "kernelspec": {
   "display_name": "Python 3 (ipykernel)",
   "language": "python",
   "name": "python3"
  },
  "language_info": {
   "codemirror_mode": {
    "name": "ipython",
    "version": 3
   },
   "file_extension": ".py",
   "mimetype": "text/x-python",
   "name": "python",
   "nbconvert_exporter": "python",
   "pygments_lexer": "ipython3",
   "version": "3.9.13"
  }
 },
 "nbformat": 4,
 "nbformat_minor": 5
}

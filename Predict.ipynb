{
 "cells": [
  {
   "cell_type": "code",
   "execution_count": 1,
   "id": "b70ad185",
   "metadata": {},
   "outputs": [],
   "source": [
    "import pandas as pd\n",
    "import numpy as np"
   ]
  },
  {
   "cell_type": "markdown",
   "id": "5fb70774",
   "metadata": {},
   "source": [
    "CV'lerden elde elilen nitelik bilgilerinin kaydedildiği csv dosyasını okuma"
   ]
  },
  {
   "cell_type": "code",
   "execution_count": 2,
   "id": "7f54a453",
   "metadata": {},
   "outputs": [],
   "source": [
    "CVfeatures=pd.read_csv(\"CVs_features.csv\",dtype=int)"
   ]
  },
  {
   "cell_type": "code",
   "execution_count": 3,
   "id": "eec796de",
   "metadata": {},
   "outputs": [],
   "source": [
    "CVfeatures.drop([\"CV No\"],axis=1,inplace=True)"
   ]
  },
  {
   "cell_type": "code",
   "execution_count": 4,
   "id": "04633a24",
   "metadata": {},
   "outputs": [],
   "source": [
    "rejected=pd.DataFrame(columns=[\"CV No\"],dtype=int)"
   ]
  },
  {
   "cell_type": "code",
   "execution_count": 5,
   "id": "69980cc1",
   "metadata": {},
   "outputs": [],
   "source": [
    "accepted=pd.DataFrame(columns=[\"CV No\"],dtype=int)"
   ]
  },
  {
   "cell_type": "code",
   "execution_count": 6,
   "id": "58f36ff4",
   "metadata": {},
   "outputs": [],
   "source": [
    "from sklearn import linear_model\n",
    "import pickle"
   ]
  },
  {
   "cell_type": "code",
   "execution_count": 7,
   "id": "5c2baacf",
   "metadata": {},
   "outputs": [],
   "source": [
    "lr_model=pickle.load(open(\"lr_model.pickle\",\"rb\"))"
   ]
  },
  {
   "cell_type": "markdown",
   "id": "ea2c4e67",
   "metadata": {},
   "source": [
    "## Yapay zekaya tahmin yaptırma\n",
    "csv dosyasındaki veriler ile sırayla modele mülakat başarı tahmini yaptırma "
   ]
  },
  {
   "cell_type": "code",
   "execution_count": 8,
   "id": "6afc8c4d",
   "metadata": {},
   "outputs": [],
   "source": [
    "for c in range(0,len(CVfeatures)):\n",
    "    row=[]\n",
    "    predict=lr_model.predict(CVfeatures.loc[[c]].values)\n",
    "    if predict[0]==1:\n",
    "        row.append(c+1)\n",
    "        accepted.loc[len(accepted)]=row\n",
    "        \n",
    "    else:  \n",
    "        row.append(c+1)\n",
    "        rejected.loc[len(rejected)]=row"
   ]
  },
  {
   "cell_type": "code",
   "execution_count": 9,
   "id": "958fff2c",
   "metadata": {
    "scrolled": true
   },
   "outputs": [
    {
     "data": {
      "text/html": [
       "<div>\n",
       "<style scoped>\n",
       "    .dataframe tbody tr th:only-of-type {\n",
       "        vertical-align: middle;\n",
       "    }\n",
       "\n",
       "    .dataframe tbody tr th {\n",
       "        vertical-align: top;\n",
       "    }\n",
       "\n",
       "    .dataframe thead th {\n",
       "        text-align: right;\n",
       "    }\n",
       "</style>\n",
       "<table border=\"1\" class=\"dataframe\">\n",
       "  <thead>\n",
       "    <tr style=\"text-align: right;\">\n",
       "      <th></th>\n",
       "      <th>CV No</th>\n",
       "    </tr>\n",
       "  </thead>\n",
       "  <tbody>\n",
       "  </tbody>\n",
       "</table>\n",
       "</div>"
      ],
      "text/plain": [
       "Empty DataFrame\n",
       "Columns: [CV No]\n",
       "Index: []"
      ]
     },
     "execution_count": 9,
     "metadata": {},
     "output_type": "execute_result"
    }
   ],
   "source": [
    "accepted"
   ]
  },
  {
   "cell_type": "code",
   "execution_count": 10,
   "id": "a16c0f4d",
   "metadata": {},
   "outputs": [
    {
     "data": {
      "text/html": [
       "<div>\n",
       "<style scoped>\n",
       "    .dataframe tbody tr th:only-of-type {\n",
       "        vertical-align: middle;\n",
       "    }\n",
       "\n",
       "    .dataframe tbody tr th {\n",
       "        vertical-align: top;\n",
       "    }\n",
       "\n",
       "    .dataframe thead th {\n",
       "        text-align: right;\n",
       "    }\n",
       "</style>\n",
       "<table border=\"1\" class=\"dataframe\">\n",
       "  <thead>\n",
       "    <tr style=\"text-align: right;\">\n",
       "      <th></th>\n",
       "      <th>CV No</th>\n",
       "    </tr>\n",
       "  </thead>\n",
       "  <tbody>\n",
       "    <tr>\n",
       "      <th>0</th>\n",
       "      <td>1</td>\n",
       "    </tr>\n",
       "  </tbody>\n",
       "</table>\n",
       "</div>"
      ],
      "text/plain": [
       "   CV No\n",
       "0      1"
      ]
     },
     "execution_count": 10,
     "metadata": {},
     "output_type": "execute_result"
    }
   ],
   "source": [
    "rejected"
   ]
  },
  {
   "cell_type": "markdown",
   "id": "1de5bee7",
   "metadata": {},
   "source": [
    "Olumlu ve olumsuz sonuçları CV No'lar ile iki farklı csv dosyasına kaydetme  "
   ]
  },
  {
   "cell_type": "code",
   "execution_count": 11,
   "id": "cc8f0ef8",
   "metadata": {},
   "outputs": [],
   "source": [
    "accepted.to_csv(\"Results/accepted.csv\", index=False)"
   ]
  },
  {
   "cell_type": "code",
   "execution_count": 12,
   "id": "3824ffc5",
   "metadata": {},
   "outputs": [],
   "source": [
    "rejected.to_csv(\"Results/rejected.csv\", index=False)"
   ]
  }
 ],
 "metadata": {
  "kernelspec": {
   "display_name": "Python 3 (ipykernel)",
   "language": "python",
   "name": "python3"
  },
  "language_info": {
   "codemirror_mode": {
    "name": "ipython",
    "version": 3
   },
   "file_extension": ".py",
   "mimetype": "text/x-python",
   "name": "python",
   "nbconvert_exporter": "python",
   "pygments_lexer": "ipython3",
   "version": "3.9.13"
  }
 },
 "nbformat": 4,
 "nbformat_minor": 5
}

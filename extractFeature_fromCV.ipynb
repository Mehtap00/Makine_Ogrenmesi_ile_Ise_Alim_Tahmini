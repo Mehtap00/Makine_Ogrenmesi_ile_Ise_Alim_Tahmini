{
 "cells": [
  {
   "cell_type": "code",
   "execution_count": 1,
   "id": "f23beb94",
   "metadata": {},
   "outputs": [],
   "source": [
    "import pandas as pd\n",
    "import numpy as np"
   ]
  },
  {
   "cell_type": "code",
   "execution_count": 2,
   "id": "fc42c457",
   "metadata": {},
   "outputs": [],
   "source": [
    "import PyPDF2"
   ]
  },
  {
   "cell_type": "code",
   "execution_count": 3,
   "id": "329b9052",
   "metadata": {},
   "outputs": [],
   "source": [
    "import re"
   ]
  },
  {
   "cell_type": "markdown",
   "id": "681da36f",
   "metadata": {},
   "source": [
    "CV'de aranacak nitelikleri, txt dosyasından listeye alma"
   ]
  },
  {
   "cell_type": "code",
   "execution_count": 4,
   "id": "76ad38fd",
   "metadata": {},
   "outputs": [],
   "source": [
    "search_keys_txt=open(\"search_keys.txt\",\"r\")\n",
    "search_keys=[]\n",
    "for s in search_keys_txt:\n",
    "    search_keys.append(s.strip().lower())\n",
    "search_keys_txt.close()    "
   ]
  },
  {
   "cell_type": "markdown",
   "id": "ff5e01c8",
   "metadata": {},
   "source": [
    "CV'lerden elde edilen nitelikleri eklemek için dataframe oluşturma"
   ]
  },
  {
   "cell_type": "code",
   "execution_count": 5,
   "id": "7522502e",
   "metadata": {},
   "outputs": [],
   "source": [
    "df=pd.read_csv(\"resumes_dataset/resumes_development.csv\",dtype=int)\n",
    "df.drop([\"Unnamed: 0\",\"Interview\",\"Female\",\"URM\",\"Disability\"],axis=1,inplace=True)\n",
    "features=pd.DataFrame(columns=[\"CV No\"]+df.columns.tolist())"
   ]
  },
  {
   "cell_type": "markdown",
   "id": "693172d5",
   "metadata": {},
   "source": [
    "**CV'de nitelikleri arama işlemi** \n",
    "\n",
    "CV No'lar ile birlikte CV'de bulunan nitelikleri 1, bulunmayanları 0 olarak dataframe'e ekleme"
   ]
  },
  {
   "cell_type": "code",
   "execution_count": 6,
   "id": "ac8c5285",
   "metadata": {},
   "outputs": [],
   "source": [
    "for i in range(1,2):\n",
    "    file_name=\"CVs/CV\"+str(i)+\".pdf\"\n",
    "    CV_files=open(file_name,\"rb\")\n",
    "    CV_reader=PyPDF2.PdfFileReader(CV_files)\n",
    "    features_list=[]\n",
    "    pages=[]\n",
    "    for j in range(0,CV_reader.numPages):\n",
    "        pages.append(CV_reader.getPage(j))\n",
    "     \n",
    "    k=0\n",
    "    features_list.append(i)\n",
    "    for s in search_keys:\n",
    "        k+=1\n",
    "        for j in range(0,CV_reader.numPages):      \n",
    "            if re.search(s,pages[j].extractText().lower()):\n",
    "                features_list.append(1)\n",
    "                break\n",
    "            else:\n",
    "                if j==CV_reader.numPages-1:\n",
    "                    features_list.append(0)\n",
    "    features.loc[len(features)]=features_list\n",
    "        \n",
    "    CV_files.close()"
   ]
  },
  {
   "cell_type": "markdown",
   "id": "d09a6a0d",
   "metadata": {},
   "source": [
    "Features dataframe'ini csv dosyasına kaydetme"
   ]
  },
  {
   "cell_type": "code",
   "execution_count": 8,
   "id": "fb3ab662",
   "metadata": {},
   "outputs": [],
   "source": [
    "features.to_csv('CVs_features.csv', index=False)"
   ]
  }
 ],
 "metadata": {
  "kernelspec": {
   "display_name": "Python 3 (ipykernel)",
   "language": "python",
   "name": "python3"
  },
  "language_info": {
   "codemirror_mode": {
    "name": "ipython",
    "version": 3
   },
   "file_extension": ".py",
   "mimetype": "text/x-python",
   "name": "python",
   "nbconvert_exporter": "python",
   "pygments_lexer": "ipython3",
   "version": "3.9.13"
  }
 },
 "nbformat": 4,
 "nbformat_minor": 5
}
